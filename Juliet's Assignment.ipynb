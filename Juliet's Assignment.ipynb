{
 "cells": [
  {
   "cell_type": "code",
   "execution_count": 1,
   "id": "f87f6ee2",
   "metadata": {},
   "outputs": [],
   "source": [
    "#1.\tWrite a function to calculate the multiplication and sum of two numbers.\n",
    "def multipy_sum(x,y):\n",
    "    print(x*y, x+y)"
   ]
  },
  {
   "cell_type": "code",
   "execution_count": 3,
   "id": "c1c5bfd6",
   "metadata": {},
   "outputs": [
    {
     "name": "stdout",
     "output_type": "stream",
     "text": [
      "50 15\n"
     ]
    }
   ],
   "source": [
    "multipy_sum(10,5)"
   ]
  },
  {
   "cell_type": "code",
   "execution_count": 4,
   "id": "b6f38be6",
   "metadata": {},
   "outputs": [],
   "source": [
    "#2.\tWrite a function to print the sum of the current number and the previous number\n",
    "def current_previous(x):\n",
    "    previous = (x-1)\n",
    "    print(x + previous)"
   ]
  },
  {
   "cell_type": "code",
   "execution_count": 5,
   "id": "b5f52c7d",
   "metadata": {},
   "outputs": [
    {
     "name": "stdout",
     "output_type": "stream",
     "text": [
      "19\n"
     ]
    }
   ],
   "source": [
    "current_previous(10)"
   ]
  },
  {
   "cell_type": "code",
   "execution_count": 6,
   "id": "82916781",
   "metadata": {},
   "outputs": [],
   "source": [
    "#3.\tWrite a function to print characters from a string that are present at an even index number\n",
    "def char_string(x = 'default string'):\n",
    "    i = 0\n",
    "    while i < len(x):\n",
    "        print(x[i], end ='')\n",
    "        i = i + 2"
   ]
  },
  {
   "cell_type": "code",
   "execution_count": 7,
   "id": "aa735395",
   "metadata": {},
   "outputs": [
    {
     "name": "stdout",
     "output_type": "stream",
     "text": [
      "iprat"
     ]
    }
   ],
   "source": [
    "char_string('important')"
   ]
  },
  {
   "cell_type": "code",
   "execution_count": 8,
   "id": "a651b1de",
   "metadata": {},
   "outputs": [],
   "source": [
    "#4.\tWrite a function to remove first characters from a string\n",
    "def first_char(A):\n",
    "    print(A.replace(A[0], ''))"
   ]
  },
  {
   "cell_type": "code",
   "execution_count": 9,
   "id": "5fe0d5d7",
   "metadata": {},
   "outputs": [
    {
     "name": "stdout",
     "output_type": "stream",
     "text": [
      "lessing\n"
     ]
    }
   ],
   "source": [
    "first_char('Blessing')"
   ]
  },
  {
   "cell_type": "code",
   "execution_count": 10,
   "id": "ad6b1198",
   "metadata": {},
   "outputs": [],
   "source": [
    "#5.\tWrite a function to check if the first and last number of a list is the same\n",
    "def same_char():\n",
    "    A = [1,2,3,4,5,6,7]\n",
    "    if A[0] == A[-1]:\n",
    "        print('True')\n",
    "    else:\n",
    "        print('False')\n"
   ]
  },
  {
   "cell_type": "code",
   "execution_count": 11,
   "id": "5be44ba2",
   "metadata": {},
   "outputs": [
    {
     "name": "stdout",
     "output_type": "stream",
     "text": [
      "False\n"
     ]
    }
   ],
   "source": [
    "same_char()"
   ]
  },
  {
   "cell_type": "code",
   "execution_count": 20,
   "id": "e00993f7",
   "metadata": {},
   "outputs": [],
   "source": [
    "#6.Write a function to print multiplication table from 1 to 10\n",
    "def table():\n",
    "    for i in range(1,11):\n",
    "        print(\"\")\n",
    "        for x in range(1,13):\n",
    "            print(i * x, '', end = '')"
   ]
  },
  {
   "cell_type": "code",
   "execution_count": 21,
   "id": "a4303d86",
   "metadata": {},
   "outputs": [
    {
     "name": "stdout",
     "output_type": "stream",
     "text": [
      "\n",
      "1 2 3 4 5 6 7 8 9 10 11 12 \n",
      "2 4 6 8 10 12 14 16 18 20 22 24 \n",
      "3 6 9 12 15 18 21 24 27 30 33 36 \n",
      "4 8 12 16 20 24 28 32 36 40 44 48 \n",
      "5 10 15 20 25 30 35 40 45 50 55 60 \n",
      "6 12 18 24 30 36 42 48 54 60 66 72 \n",
      "7 14 21 28 35 42 49 56 63 70 77 84 \n",
      "8 16 24 32 40 48 56 64 72 80 88 96 \n",
      "9 18 27 36 45 54 63 72 81 90 99 108 \n",
      "10 20 30 40 50 60 70 80 90 100 110 120 "
     ]
    }
   ],
   "source": [
    "table()"
   ]
  },
  {
   "cell_type": "code",
   "execution_count": 22,
   "id": "e4107ba1",
   "metadata": {},
   "outputs": [],
   "source": [
    "#7.\tGiven a two list of numbers, write a function to create a new list such that the new list should contain odd numbers from the first list and even numbers from the second list.\n",
    "def odd_even():\n",
    "    A = [1,2,3,5,7,8,10]\n",
    "    B = [2,4,9,11,12,15,18]\n",
    "    C = []\n",
    "    for i in A:\n",
    "        if i % 2 > 0:\n",
    "            C.append(i)\n",
    "    for x in B:\n",
    "        if x % 2 == 0:\n",
    "            C.append(x)\n",
    "    print(C)"
   ]
  },
  {
   "cell_type": "code",
   "execution_count": 23,
   "id": "0c20975b",
   "metadata": {},
   "outputs": [
    {
     "name": "stdout",
     "output_type": "stream",
     "text": [
      "[1, 3, 5, 7, 2, 4, 12, 18]\n"
     ]
    }
   ],
   "source": [
    "odd_even()"
   ]
  },
  {
   "cell_type": "code",
   "execution_count": null,
   "id": "627f4087",
   "metadata": {},
   "outputs": [],
   "source": []
  }
 ],
 "metadata": {
  "kernelspec": {
   "display_name": "Python 3 (ipykernel)",
   "language": "python",
   "name": "python3"
  },
  "language_info": {
   "codemirror_mode": {
    "name": "ipython",
    "version": 3
   },
   "file_extension": ".py",
   "mimetype": "text/x-python",
   "name": "python",
   "nbconvert_exporter": "python",
   "pygments_lexer": "ipython3",
   "version": "3.9.12"
  }
 },
 "nbformat": 4,
 "nbformat_minor": 5
}
